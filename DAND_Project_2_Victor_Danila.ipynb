{
 "cells": [
  {
   "cell_type": "markdown",
   "metadata": {},
   "source": [
    "\n",
    "\n",
    "\n",
    "\n",
    "\n",
    "\n",
    "\n",
    "\n",
    "\n",
    "\n",
    "\n",
    "\n",
    "\n",
    "\n",
    "\n",
    "\n",
    "\n",
    "\n",
    "\n",
    "\n",
    "# DAND Project 2: Investigate a Dataset\n",
    "## Dat Set: Titanic Passengers List\n",
    "\n",
    "### Start Date: 29 November 2016\n",
    "### Submission Date: 30 November 2016\n",
    "### Author: Victor Danila"
   ]
  },
  {
   "cell_type": "markdown",
   "metadata": {},
   "source": [
    "## Questions investigated:\n",
    "### - What factors made people more likely to survive?"
   ]
  },
  {
   "cell_type": "code",
   "execution_count": 1,
   "metadata": {
    "collapsed": true
   },
   "outputs": [],
   "source": [
    "import pandas as pd\n",
    "import numpy as np\n",
    "import matplotlib as plt\n",
    "import seaborn as sns\n",
    "import io\n",
    "%matplotlib inline"
   ]
  },
  {
   "cell_type": "markdown",
   "metadata": {},
   "source": [
    "### Original Data Frame"
   ]
  },
  {
   "cell_type": "code",
   "execution_count": 21,
   "metadata": {
    "collapsed": false
   },
   "outputs": [
    {
     "data": {
      "text/html": [
       "<div>\n",
       "<table border=\"1\" class=\"dataframe\">\n",
       "  <thead>\n",
       "    <tr style=\"text-align: right;\">\n",
       "      <th></th>\n",
       "      <th>PassengerId</th>\n",
       "      <th>Survived</th>\n",
       "      <th>Pclass</th>\n",
       "      <th>Name</th>\n",
       "      <th>Sex</th>\n",
       "      <th>Age</th>\n",
       "      <th>SibSp</th>\n",
       "      <th>Parch</th>\n",
       "      <th>Ticket</th>\n",
       "      <th>Fare</th>\n",
       "      <th>Cabin</th>\n",
       "      <th>Embarked</th>\n",
       "    </tr>\n",
       "  </thead>\n",
       "  <tbody>\n",
       "    <tr>\n",
       "      <th>0</th>\n",
       "      <td>1</td>\n",
       "      <td>0</td>\n",
       "      <td>3</td>\n",
       "      <td>Braund, Mr. Owen Harris</td>\n",
       "      <td>male</td>\n",
       "      <td>22.0</td>\n",
       "      <td>1</td>\n",
       "      <td>0</td>\n",
       "      <td>A/5 21171</td>\n",
       "      <td>7.2500</td>\n",
       "      <td>NaN</td>\n",
       "      <td>S</td>\n",
       "    </tr>\n",
       "    <tr>\n",
       "      <th>1</th>\n",
       "      <td>2</td>\n",
       "      <td>1</td>\n",
       "      <td>1</td>\n",
       "      <td>Cumings, Mrs. John Bradley (Florence Briggs Th...</td>\n",
       "      <td>female</td>\n",
       "      <td>38.0</td>\n",
       "      <td>1</td>\n",
       "      <td>0</td>\n",
       "      <td>PC 17599</td>\n",
       "      <td>71.2833</td>\n",
       "      <td>C85</td>\n",
       "      <td>C</td>\n",
       "    </tr>\n",
       "    <tr>\n",
       "      <th>2</th>\n",
       "      <td>3</td>\n",
       "      <td>1</td>\n",
       "      <td>3</td>\n",
       "      <td>Heikkinen, Miss. Laina</td>\n",
       "      <td>female</td>\n",
       "      <td>26.0</td>\n",
       "      <td>0</td>\n",
       "      <td>0</td>\n",
       "      <td>STON/O2. 3101282</td>\n",
       "      <td>7.9250</td>\n",
       "      <td>NaN</td>\n",
       "      <td>S</td>\n",
       "    </tr>\n",
       "    <tr>\n",
       "      <th>3</th>\n",
       "      <td>4</td>\n",
       "      <td>1</td>\n",
       "      <td>1</td>\n",
       "      <td>Futrelle, Mrs. Jacques Heath (Lily May Peel)</td>\n",
       "      <td>female</td>\n",
       "      <td>35.0</td>\n",
       "      <td>1</td>\n",
       "      <td>0</td>\n",
       "      <td>113803</td>\n",
       "      <td>53.1000</td>\n",
       "      <td>C123</td>\n",
       "      <td>S</td>\n",
       "    </tr>\n",
       "    <tr>\n",
       "      <th>4</th>\n",
       "      <td>5</td>\n",
       "      <td>0</td>\n",
       "      <td>3</td>\n",
       "      <td>Allen, Mr. William Henry</td>\n",
       "      <td>male</td>\n",
       "      <td>35.0</td>\n",
       "      <td>0</td>\n",
       "      <td>0</td>\n",
       "      <td>373450</td>\n",
       "      <td>8.0500</td>\n",
       "      <td>NaN</td>\n",
       "      <td>S</td>\n",
       "    </tr>\n",
       "  </tbody>\n",
       "</table>\n",
       "</div>"
      ],
      "text/plain": [
       "   PassengerId  Survived  Pclass  \\\n",
       "0            1         0       3   \n",
       "1            2         1       1   \n",
       "2            3         1       3   \n",
       "3            4         1       1   \n",
       "4            5         0       3   \n",
       "\n",
       "                                                Name     Sex   Age  SibSp  \\\n",
       "0                            Braund, Mr. Owen Harris    male  22.0      1   \n",
       "1  Cumings, Mrs. John Bradley (Florence Briggs Th...  female  38.0      1   \n",
       "2                             Heikkinen, Miss. Laina  female  26.0      0   \n",
       "3       Futrelle, Mrs. Jacques Heath (Lily May Peel)  female  35.0      1   \n",
       "4                           Allen, Mr. William Henry    male  35.0      0   \n",
       "\n",
       "   Parch            Ticket     Fare Cabin Embarked  \n",
       "0      0         A/5 21171   7.2500   NaN        S  \n",
       "1      0          PC 17599  71.2833   C85        C  \n",
       "2      0  STON/O2. 3101282   7.9250   NaN        S  \n",
       "3      0            113803  53.1000  C123        S  \n",
       "4      0            373450   8.0500   NaN        S  "
      ]
     },
     "execution_count": 21,
     "metadata": {},
     "output_type": "execute_result"
    }
   ],
   "source": [
    "# Import the CSV data and show the first 5 lines. \n",
    "filename = 'titanic-data.csv'\n",
    "titanic_df = pd.read_csv(filename)\n",
    "titanic_df.head(n=5)"
   ]
  },
  {
   "cell_type": "markdown",
   "metadata": {},
   "source": [
    "### Checking for Missing Values and Filling in Missing Instances  (Data Wrangling)"
   ]
  },
  {
   "cell_type": "code",
   "execution_count": 30,
   "metadata": {
    "collapsed": false
   },
   "outputs": [
    {
     "name": "stdout",
     "output_type": "stream",
     "text": [
      "Columns with missing values:\n",
      "\n",
      "PassengerId    False\n",
      "Survived       False\n",
      "Pclass         False\n",
      "Name           False\n",
      "Sex            False\n",
      "Age            False\n",
      "SibSp          False\n",
      "Parch          False\n",
      "Ticket         False\n",
      "Fare           False\n",
      "Cabin           True\n",
      "Embarked        True\n",
      "Age_Rounded     True\n",
      "dtype: bool\n",
      "\n",
      "Number of missing instances in Age columns: 0\n",
      "Percent of missing instances in Age Column: 0.0\n",
      "\n",
      "Age mode grouped by Class and Gender:\n",
      "\n",
      "   Pclass     Sex  Age_Rounded\n",
      "0       1  female         35.0\n",
      "1       1    male         36.0\n",
      "2       2  female         24.0\n",
      "3       2    male         34.0\n",
      "4       3  female         18.0\n",
      "5       3    male         20.0\n"
     ]
    }
   ],
   "source": [
    "# Show columns with missing values.\n",
    "print 'Columns with missing values:'\n",
    "print\n",
    "print titanic_df.isnull().any()\n",
    "print\n",
    "# Count missing instances in Age column.\n",
    "print 'Number of missing instances in Age columns:', sum(titanic_df['Age'].isnull())\n",
    "print 'Percent of missing instances in Age Column:', sum(1.0 * titanic_df['Age'].isnull())/len(titanic_df.index)*100\n",
    "print \n",
    "# Add an Age column with rounded values.\n",
    "titanic_df['Age_Rounded'] = titanic_df['Age'].round()\n",
    "# Set logic for filling in missing values.\n",
    "print 'Age mode grouped by Class and Gender:'\n",
    "print\n",
    "ref_table = titanic_df.groupby(['Pclass', 'Sex'], as_index=False)['Age_Rounded'].agg(lambda x:x.value_counts().index[0])\n",
    "print ref_table\n",
    "\n"
   ]
  },
  {
   "cell_type": "markdown",
   "metadata": {},
   "source": [
    "I will fill in the missing age instances given that I will be looking how age affects survival chances. "
   ]
  },
  {
   "cell_type": "code",
   "execution_count": 29,
   "metadata": {
    "collapsed": false
   },
   "outputs": [],
   "source": [
    "# Fill in the NaNs with values from the ref_table using the loc function: \n",
    "titanic_df.loc[(titanic_df.Pclass == 1) & (titanic_df.Sex=='female') & np.isnan(titanic_df.Age) , 'Age'] = 35\n",
    "titanic_df.loc[(titanic_df.Pclass == 1) & (titanic_df.Sex=='male') & np.isnan(titanic_df.Age) , 'Age'] = 36\n",
    "titanic_df.loc[(titanic_df.Pclass == 2) & (titanic_df.Sex=='female') & np.isnan(titanic_df.Age) , 'Age'] = 24\n",
    "titanic_df.loc[(titanic_df.Pclass == 2) & (titanic_df.Sex=='male') & np.isnan(titanic_df.Age) , 'Age'] = 34\n",
    "titanic_df.loc[(titanic_df.Pclass == 3) & (titanic_df.Sex=='female') & np.isnan(titanic_df.Age) , 'Age'] = 18\n",
    "titanic_df.loc[(titanic_df.Pclass == 3) & (titanic_df.Sex=='male') & np.isnan(titanic_df.Age) , 'Age'] = 20"
   ]
  },
  {
   "cell_type": "markdown",
   "metadata": {},
   "source": [
    "### Latest Data Frame (After Data Wrangling)"
   ]
  },
  {
   "cell_type": "code",
   "execution_count": 46,
   "metadata": {
    "collapsed": false
   },
   "outputs": [
    {
     "data": {
      "text/html": [
       "<div>\n",
       "<table border=\"1\" class=\"dataframe\">\n",
       "  <thead>\n",
       "    <tr style=\"text-align: right;\">\n",
       "      <th></th>\n",
       "      <th>PassengerId</th>\n",
       "      <th>Survived</th>\n",
       "      <th>Pclass</th>\n",
       "      <th>Name</th>\n",
       "      <th>Sex</th>\n",
       "      <th>Age</th>\n",
       "      <th>SibSp</th>\n",
       "      <th>Parch</th>\n",
       "      <th>Ticket</th>\n",
       "      <th>Fare</th>\n",
       "      <th>Cabin</th>\n",
       "      <th>Embarked</th>\n",
       "      <th>Age_Rounded</th>\n",
       "      <th>Age Group</th>\n",
       "      <th>Count</th>\n",
       "    </tr>\n",
       "  </thead>\n",
       "  <tbody>\n",
       "    <tr>\n",
       "      <th>0</th>\n",
       "      <td>1</td>\n",
       "      <td>0</td>\n",
       "      <td>3</td>\n",
       "      <td>Braund, Mr. Owen Harris</td>\n",
       "      <td>male</td>\n",
       "      <td>22.0</td>\n",
       "      <td>1</td>\n",
       "      <td>0</td>\n",
       "      <td>A/5 21171</td>\n",
       "      <td>7.2500</td>\n",
       "      <td>NaN</td>\n",
       "      <td>S</td>\n",
       "      <td>22.0</td>\n",
       "      <td>2_Adults</td>\n",
       "      <td>1</td>\n",
       "    </tr>\n",
       "    <tr>\n",
       "      <th>1</th>\n",
       "      <td>2</td>\n",
       "      <td>1</td>\n",
       "      <td>1</td>\n",
       "      <td>Cumings, Mrs. John Bradley (Florence Briggs Th...</td>\n",
       "      <td>female</td>\n",
       "      <td>38.0</td>\n",
       "      <td>1</td>\n",
       "      <td>0</td>\n",
       "      <td>PC 17599</td>\n",
       "      <td>71.2833</td>\n",
       "      <td>C85</td>\n",
       "      <td>C</td>\n",
       "      <td>38.0</td>\n",
       "      <td>2_Adults</td>\n",
       "      <td>1</td>\n",
       "    </tr>\n",
       "    <tr>\n",
       "      <th>2</th>\n",
       "      <td>3</td>\n",
       "      <td>1</td>\n",
       "      <td>3</td>\n",
       "      <td>Heikkinen, Miss. Laina</td>\n",
       "      <td>female</td>\n",
       "      <td>26.0</td>\n",
       "      <td>0</td>\n",
       "      <td>0</td>\n",
       "      <td>STON/O2. 3101282</td>\n",
       "      <td>7.9250</td>\n",
       "      <td>NaN</td>\n",
       "      <td>S</td>\n",
       "      <td>26.0</td>\n",
       "      <td>2_Adults</td>\n",
       "      <td>1</td>\n",
       "    </tr>\n",
       "    <tr>\n",
       "      <th>3</th>\n",
       "      <td>4</td>\n",
       "      <td>1</td>\n",
       "      <td>1</td>\n",
       "      <td>Futrelle, Mrs. Jacques Heath (Lily May Peel)</td>\n",
       "      <td>female</td>\n",
       "      <td>35.0</td>\n",
       "      <td>1</td>\n",
       "      <td>0</td>\n",
       "      <td>113803</td>\n",
       "      <td>53.1000</td>\n",
       "      <td>C123</td>\n",
       "      <td>S</td>\n",
       "      <td>35.0</td>\n",
       "      <td>2_Adults</td>\n",
       "      <td>1</td>\n",
       "    </tr>\n",
       "    <tr>\n",
       "      <th>4</th>\n",
       "      <td>5</td>\n",
       "      <td>0</td>\n",
       "      <td>3</td>\n",
       "      <td>Allen, Mr. William Henry</td>\n",
       "      <td>male</td>\n",
       "      <td>35.0</td>\n",
       "      <td>0</td>\n",
       "      <td>0</td>\n",
       "      <td>373450</td>\n",
       "      <td>8.0500</td>\n",
       "      <td>NaN</td>\n",
       "      <td>S</td>\n",
       "      <td>35.0</td>\n",
       "      <td>2_Adults</td>\n",
       "      <td>1</td>\n",
       "    </tr>\n",
       "  </tbody>\n",
       "</table>\n",
       "</div>"
      ],
      "text/plain": [
       "   PassengerId  Survived  Pclass  \\\n",
       "0            1         0       3   \n",
       "1            2         1       1   \n",
       "2            3         1       3   \n",
       "3            4         1       1   \n",
       "4            5         0       3   \n",
       "\n",
       "                                                Name     Sex   Age  SibSp  \\\n",
       "0                            Braund, Mr. Owen Harris    male  22.0      1   \n",
       "1  Cumings, Mrs. John Bradley (Florence Briggs Th...  female  38.0      1   \n",
       "2                             Heikkinen, Miss. Laina  female  26.0      0   \n",
       "3       Futrelle, Mrs. Jacques Heath (Lily May Peel)  female  35.0      1   \n",
       "4                           Allen, Mr. William Henry    male  35.0      0   \n",
       "\n",
       "   Parch            Ticket     Fare Cabin Embarked  Age_Rounded Age Group  \\\n",
       "0      0         A/5 21171   7.2500   NaN        S         22.0  2_Adults   \n",
       "1      0          PC 17599  71.2833   C85        C         38.0  2_Adults   \n",
       "2      0  STON/O2. 3101282   7.9250   NaN        S         26.0  2_Adults   \n",
       "3      0            113803  53.1000  C123        S         35.0  2_Adults   \n",
       "4      0            373450   8.0500   NaN        S         35.0  2_Adults   \n",
       "\n",
       "   Count  \n",
       "0      1  \n",
       "1      1  \n",
       "2      1  \n",
       "3      1  \n",
       "4      1  "
      ]
     },
     "execution_count": 46,
     "metadata": {},
     "output_type": "execute_result"
    }
   ],
   "source": [
    "# Function that assigns passenger to an age group.\n",
    "def assign_age_group(age):\n",
    "    if age is not 'NaN':\n",
    "        if age <= 9:\n",
    "            return '0_Children'\n",
    "        elif 10 <= age <= 19:\n",
    "            return '1_Adolescents'\n",
    "        elif 20 <= age <= 45:\n",
    "            return '2_Adults'\n",
    "        elif 46 <= age <=60:\n",
    "            return '3_Middle Age Adults'\n",
    "        elif 60 < age:\n",
    "            return '4_Seniors'\n",
    "        \n",
    "#Create new column named 'Age Group'.\n",
    "titanic_df['Age Group'] = titanic_df['Age'].apply(assign_age_group)\n",
    "\n",
    "#Function that assigns 1 to each passanger, to be used in counting. \n",
    "def assign_num_value(value):\n",
    "    return 1\n",
    "\n",
    "#Creat new column and insert 1 on each row:\n",
    "titanic_df['Count'] = titanic_df['PassengerId'].apply(assign_num_value)\n",
    "#Show the updated data frame.\n",
    "titanic_df.head(n=5)"
   ]
  },
  {
   "cell_type": "markdown",
   "metadata": {},
   "source": [
    "# Part I - Data Grouped by Class and Gender"
   ]
  },
  {
   "cell_type": "markdown",
   "metadata": {},
   "source": [
    "### Graph  of Survival Ratio by Class and Gender"
   ]
  },
  {
   "cell_type": "code",
   "execution_count": 52,
   "metadata": {
    "collapsed": false
   },
   "outputs": [
    {
     "data": {
      "text/html": [
       "<div>\n",
       "<table border=\"1\" class=\"dataframe\">\n",
       "  <thead>\n",
       "    <tr style=\"text-align: right;\">\n",
       "      <th></th>\n",
       "      <th>Pclass</th>\n",
       "      <th>Sex</th>\n",
       "      <th>Survived</th>\n",
       "      <th>Deceased</th>\n",
       "    </tr>\n",
       "  </thead>\n",
       "  <tbody>\n",
       "    <tr>\n",
       "      <th>0</th>\n",
       "      <td>1</td>\n",
       "      <td>female</td>\n",
       "      <td>0.968085</td>\n",
       "      <td>0.031915</td>\n",
       "    </tr>\n",
       "    <tr>\n",
       "      <th>1</th>\n",
       "      <td>1</td>\n",
       "      <td>male</td>\n",
       "      <td>0.368852</td>\n",
       "      <td>0.631148</td>\n",
       "    </tr>\n",
       "    <tr>\n",
       "      <th>2</th>\n",
       "      <td>2</td>\n",
       "      <td>female</td>\n",
       "      <td>0.921053</td>\n",
       "      <td>0.078947</td>\n",
       "    </tr>\n",
       "    <tr>\n",
       "      <th>3</th>\n",
       "      <td>2</td>\n",
       "      <td>male</td>\n",
       "      <td>0.157407</td>\n",
       "      <td>0.842593</td>\n",
       "    </tr>\n",
       "    <tr>\n",
       "      <th>4</th>\n",
       "      <td>3</td>\n",
       "      <td>female</td>\n",
       "      <td>0.500000</td>\n",
       "      <td>0.500000</td>\n",
       "    </tr>\n",
       "    <tr>\n",
       "      <th>5</th>\n",
       "      <td>3</td>\n",
       "      <td>male</td>\n",
       "      <td>0.135447</td>\n",
       "      <td>0.864553</td>\n",
       "    </tr>\n",
       "  </tbody>\n",
       "</table>\n",
       "</div>"
      ],
      "text/plain": [
       "   Pclass     Sex  Survived  Deceased\n",
       "0       1  female  0.968085  0.031915\n",
       "1       1    male  0.368852  0.631148\n",
       "2       2  female  0.921053  0.078947\n",
       "3       2    male  0.157407  0.842593\n",
       "4       3  female  0.500000  0.500000\n",
       "5       3    male  0.135447  0.864553"
      ]
     },
     "execution_count": 52,
     "metadata": {},
     "output_type": "execute_result"
    }
   ],
   "source": [
    "# Group by Pclass and Age and take the Survived mean. \n",
    "survival_ratio_data = titanic_df.groupby(['Pclass', 'Sex',], as_index=False ) \\\n",
    "                                        ['Survived'].mean()\n",
    "# Create new Deceased column and assign values.\n",
    "deceased = survival_ratio_data['Survived'] * (-1) + 1.00\n",
    "survival_ratio_data['Deceased'] = deceased\n",
    "# Show table.\n",
    "survival_ratio_data"
   ]
  },
  {
   "cell_type": "code",
   "execution_count": 33,
   "metadata": {
    "collapsed": false
   },
   "outputs": [
    {
     "data": {
      "text/html": [
       "<div>\n",
       "<table border=\"1\" class=\"dataframe\">\n",
       "  <thead>\n",
       "    <tr style=\"text-align: right;\">\n",
       "      <th></th>\n",
       "      <th>Survived</th>\n",
       "      <th>Deceased</th>\n",
       "    </tr>\n",
       "  </thead>\n",
       "  <tbody>\n",
       "    <tr>\n",
       "      <th>Class I - Women</th>\n",
       "      <td>0.968085</td>\n",
       "      <td>0.031915</td>\n",
       "    </tr>\n",
       "    <tr>\n",
       "      <th>Class I - Men</th>\n",
       "      <td>0.368852</td>\n",
       "      <td>0.631148</td>\n",
       "    </tr>\n",
       "    <tr>\n",
       "      <th>Class II - Women</th>\n",
       "      <td>0.921053</td>\n",
       "      <td>0.078947</td>\n",
       "    </tr>\n",
       "    <tr>\n",
       "      <th>Class II - Men</th>\n",
       "      <td>0.157407</td>\n",
       "      <td>0.842593</td>\n",
       "    </tr>\n",
       "    <tr>\n",
       "      <th>Class III - Women</th>\n",
       "      <td>0.500000</td>\n",
       "      <td>0.500000</td>\n",
       "    </tr>\n",
       "    <tr>\n",
       "      <th>Class III - Men</th>\n",
       "      <td>0.135447</td>\n",
       "      <td>0.864553</td>\n",
       "    </tr>\n",
       "  </tbody>\n",
       "</table>\n",
       "</div>"
      ],
      "text/plain": [
       "                   Survived  Deceased\n",
       "Class I - Women    0.968085  0.031915\n",
       "Class I - Men      0.368852  0.631148\n",
       "Class II - Women   0.921053  0.078947\n",
       "Class II - Men     0.157407  0.842593\n",
       "Class III - Women  0.500000  0.500000\n",
       "Class III - Men    0.135447  0.864553"
      ]
     },
     "execution_count": 33,
     "metadata": {},
     "output_type": "execute_result"
    }
   ],
   "source": [
    "# Create table to be used for the plot. \n",
    "plot1_data = survival_ratio_data[['Survived', 'Deceased']]\n",
    "# Create new index.\n",
    "plot1_data.index = ['Class I - Women', 'Class I - Men', 'Class II - Women',\n",
    "                    'Class II - Men', 'Class III - Women', 'Class III - Men']\n",
    "# Show table.\n",
    "plot1_data"
   ]
  },
  {
   "cell_type": "code",
   "execution_count": 34,
   "metadata": {
    "collapsed": false
   },
   "outputs": [
    {
     "data": {
      "image/png": "[encoded data removed]",
      "text/plain": [
       "<matplotlib.figure.Figure at 0x7f933dc29a50>"
      ]
     },
     "metadata": {},
     "output_type": "display_data"
    }
   ],
   "source": [
    "# Plot the Class Gender Ratio data. \n",
    "plotClassGenderRatio = plot1_data.plot(kind='bar', stacked=True,\n",
    "                                       title='Titanic Survival Ratio by Class and Gender',\n",
    "                                       legend=True,)"
   ]
  },
  {
   "cell_type": "markdown",
   "metadata": {},
   "source": [
    "### Graph of survival numbers by class and gender"
   ]
  },
  {
   "cell_type": "code",
   "execution_count": 48,
   "metadata": {
    "collapsed": false
   },
   "outputs": [
    {
     "data": {
      "text/html": [
       "<div>\n",
       "<table border=\"1\" class=\"dataframe\">\n",
       "  <thead>\n",
       "    <tr style=\"text-align: right;\">\n",
       "      <th></th>\n",
       "      <th>Survived</th>\n",
       "      <th>Deceased</th>\n",
       "    </tr>\n",
       "  </thead>\n",
       "  <tbody>\n",
       "    <tr>\n",
       "      <th>Class I - Women</th>\n",
       "      <td>91</td>\n",
       "      <td>3</td>\n",
       "    </tr>\n",
       "    <tr>\n",
       "      <th>Class I - Men</th>\n",
       "      <td>45</td>\n",
       "      <td>77</td>\n",
       "    </tr>\n",
       "    <tr>\n",
       "      <th>Class II - Women</th>\n",
       "      <td>70</td>\n",
       "      <td>6</td>\n",
       "    </tr>\n",
       "    <tr>\n",
       "      <th>Class II - Men</th>\n",
       "      <td>17</td>\n",
       "      <td>91</td>\n",
       "    </tr>\n",
       "    <tr>\n",
       "      <th>Class III - Women</th>\n",
       "      <td>72</td>\n",
       "      <td>72</td>\n",
       "    </tr>\n",
       "    <tr>\n",
       "      <th>Class III - Men</th>\n",
       "      <td>47</td>\n",
       "      <td>300</td>\n",
       "    </tr>\n",
       "  </tbody>\n",
       "</table>\n",
       "</div>"
      ],
      "text/plain": [
       "                   Survived  Deceased\n",
       "Class I - Women          91         3\n",
       "Class I - Men            45        77\n",
       "Class II - Women         70         6\n",
       "Class II - Men           17        91\n",
       "Class III - Women        72        72\n",
       "Class III - Men          47       300"
      ]
     },
     "execution_count": 48,
     "metadata": {},
     "output_type": "execute_result"
    }
   ],
   "source": [
    "# Create table for plot.\n",
    "plot1_1_data_df = titanic_df.groupby(['Pclass', 'Sex',], as_index=False ) \\\n",
    "                                    ['Count', 'Survived'].sum()\n",
    "# Create new column and assign values.\n",
    "plot1_1_data_df['Deceased'] = plot1_1_data_df['Count'] - \\\n",
    "                              plot1_1_data_df['Survived']\n",
    "# Delete unnecessary columns.\n",
    "plot1_1_data_df.drop('Pclass', axis=1, inplace=True)\n",
    "plot1_1_data_df.drop('Sex', axis=1, inplace=True)\n",
    "plot1_1_data_df.drop('Count', axis=1, inplace=True)\n",
    "# Create new index.\n",
    "plot1_1_data_df.index = ['Class I - Women', 'Class I - Men', \n",
    "                         'Class II - Women', 'Class II - Men', \n",
    "                         'Class III - Women', 'Class III - Men']\n",
    "plot1_1_data_df"
   ]
  },
  {
   "cell_type": "code",
   "execution_count": 51,
   "metadata": {
    "collapsed": false
   },
   "outputs": [
    {
     "data": {
      "image/png": "[encoded data removed]",
      "text/plain": [
       "<matplotlib.figure.Figure at 0x7f933b246a90>"
      ]
     },
     "metadata": {},
     "output_type": "display_data"
    }
   ],
   "source": [
    "# Plot the Class Gender Absolute values data.\n",
    "plotClassGenderAbs = plot1_1_data_df.plot(\n",
    "                        kind='bar', stacked=True,\n",
    "                        title='Titanic Survival Numbers by Class and Gender',\n",
    "                        legend=True)"
   ]
  },
  {
   "cell_type": "markdown",
   "metadata": {},
   "source": [
    "### Graph  of age frequency of passengers"
   ]
  },
  {
   "cell_type": "code",
   "execution_count": 37,
   "metadata": {
    "collapsed": false
   },
   "outputs": [
    {
     "data": {
      "image/png": "[encoded data removed]",
      "text/plain": [
       "<matplotlib.figure.Figure at 0x7f933dca9610>"
      ]
     },
     "metadata": {},
     "output_type": "display_data"
    }
   ],
   "source": [
    "# Create a histogram counting the passengers age frequency.\n",
    "age_hist_data = titanic_df['Age']\n",
    "plotAgeHist = age_hist_data.plot(kind='hist', title='Titanic Passengers Age Histogram')"
   ]
  },
  {
   "cell_type": "markdown",
   "metadata": {},
   "source": [
    "The 'Titanic Passengers Age Histogram' shows that most passengers were adults and middle age adults and the age follows a normal distribution. "
   ]
  },
  {
   "cell_type": "markdown",
   "metadata": {},
   "source": [
    "# Part II - Data Grouped by Class and Age Group"
   ]
  },
  {
   "cell_type": "markdown",
   "metadata": {},
   "source": [
    "### Graph of survival ratio by class and age group"
   ]
  },
  {
   "cell_type": "code",
   "execution_count": 54,
   "metadata": {
    "collapsed": false
   },
   "outputs": [
    {
     "data": {
      "text/html": [
       "<div>\n",
       "<table border=\"1\" class=\"dataframe\">\n",
       "  <thead>\n",
       "    <tr style=\"text-align: right;\">\n",
       "      <th></th>\n",
       "      <th>Pclass</th>\n",
       "      <th>Age Group</th>\n",
       "      <th>Count</th>\n",
       "      <th>Survived</th>\n",
       "      <th>Survived Ratio</th>\n",
       "      <th>Deceased Ratio</th>\n",
       "      <th>Deceased</th>\n",
       "    </tr>\n",
       "  </thead>\n",
       "  <tbody>\n",
       "    <tr>\n",
       "      <th>0</th>\n",
       "      <td>1</td>\n",
       "      <td>0_Children</td>\n",
       "      <td>3</td>\n",
       "      <td>2</td>\n",
       "      <td>0.666667</td>\n",
       "      <td>0.333333</td>\n",
       "      <td>1</td>\n",
       "    </tr>\n",
       "    <tr>\n",
       "      <th>1</th>\n",
       "      <td>1</td>\n",
       "      <td>1_Adolescents</td>\n",
       "      <td>18</td>\n",
       "      <td>15</td>\n",
       "      <td>0.833333</td>\n",
       "      <td>0.166667</td>\n",
       "      <td>3</td>\n",
       "    </tr>\n",
       "    <tr>\n",
       "      <th>2</th>\n",
       "      <td>1</td>\n",
       "      <td>2_Adults</td>\n",
       "      <td>133</td>\n",
       "      <td>89</td>\n",
       "      <td>0.669173</td>\n",
       "      <td>0.330827</td>\n",
       "      <td>44</td>\n",
       "    </tr>\n",
       "    <tr>\n",
       "      <th>3</th>\n",
       "      <td>1</td>\n",
       "      <td>3_Middle Age Adults</td>\n",
       "      <td>47</td>\n",
       "      <td>27</td>\n",
       "      <td>0.574468</td>\n",
       "      <td>0.425532</td>\n",
       "      <td>20</td>\n",
       "    </tr>\n",
       "    <tr>\n",
       "      <th>4</th>\n",
       "      <td>1</td>\n",
       "      <td>4_Seniors</td>\n",
       "      <td>14</td>\n",
       "      <td>3</td>\n",
       "      <td>0.214286</td>\n",
       "      <td>0.785714</td>\n",
       "      <td>11</td>\n",
       "    </tr>\n",
       "    <tr>\n",
       "      <th>5</th>\n",
       "      <td>2</td>\n",
       "      <td>0_Children</td>\n",
       "      <td>17</td>\n",
       "      <td>17</td>\n",
       "      <td>1.000000</td>\n",
       "      <td>0.000000</td>\n",
       "      <td>0</td>\n",
       "    </tr>\n",
       "    <tr>\n",
       "      <th>6</th>\n",
       "      <td>2</td>\n",
       "      <td>1_Adolescents</td>\n",
       "      <td>18</td>\n",
       "      <td>9</td>\n",
       "      <td>0.500000</td>\n",
       "      <td>0.500000</td>\n",
       "      <td>9</td>\n",
       "    </tr>\n",
       "    <tr>\n",
       "      <th>7</th>\n",
       "      <td>2</td>\n",
       "      <td>2_Adults</td>\n",
       "      <td>126</td>\n",
       "      <td>54</td>\n",
       "      <td>0.428571</td>\n",
       "      <td>0.571429</td>\n",
       "      <td>72</td>\n",
       "    </tr>\n",
       "    <tr>\n",
       "      <th>8</th>\n",
       "      <td>2</td>\n",
       "      <td>3_Middle Age Adults</td>\n",
       "      <td>20</td>\n",
       "      <td>6</td>\n",
       "      <td>0.300000</td>\n",
       "      <td>0.700000</td>\n",
       "      <td>14</td>\n",
       "    </tr>\n",
       "    <tr>\n",
       "      <th>9</th>\n",
       "      <td>2</td>\n",
       "      <td>4_Seniors</td>\n",
       "      <td>3</td>\n",
       "      <td>1</td>\n",
       "      <td>0.333333</td>\n",
       "      <td>0.666667</td>\n",
       "      <td>2</td>\n",
       "    </tr>\n",
       "    <tr>\n",
       "      <th>10</th>\n",
       "      <td>3</td>\n",
       "      <td>0_Children</td>\n",
       "      <td>42</td>\n",
       "      <td>19</td>\n",
       "      <td>0.452381</td>\n",
       "      <td>0.547619</td>\n",
       "      <td>23</td>\n",
       "    </tr>\n",
       "    <tr>\n",
       "      <th>11</th>\n",
       "      <td>3</td>\n",
       "      <td>1_Adolescents</td>\n",
       "      <td>108</td>\n",
       "      <td>42</td>\n",
       "      <td>0.388889</td>\n",
       "      <td>0.611111</td>\n",
       "      <td>66</td>\n",
       "    </tr>\n",
       "    <tr>\n",
       "      <th>12</th>\n",
       "      <td>3</td>\n",
       "      <td>2_Adults</td>\n",
       "      <td>323</td>\n",
       "      <td>57</td>\n",
       "      <td>0.176471</td>\n",
       "      <td>0.823529</td>\n",
       "      <td>266</td>\n",
       "    </tr>\n",
       "    <tr>\n",
       "      <th>13</th>\n",
       "      <td>3</td>\n",
       "      <td>3_Middle Age Adults</td>\n",
       "      <td>12</td>\n",
       "      <td>0</td>\n",
       "      <td>0.000000</td>\n",
       "      <td>1.000000</td>\n",
       "      <td>12</td>\n",
       "    </tr>\n",
       "    <tr>\n",
       "      <th>14</th>\n",
       "      <td>3</td>\n",
       "      <td>4_Seniors</td>\n",
       "      <td>5</td>\n",
       "      <td>1</td>\n",
       "      <td>0.200000</td>\n",
       "      <td>0.800000</td>\n",
       "      <td>4</td>\n",
       "    </tr>\n",
       "  </tbody>\n",
       "</table>\n",
       "</div>"
      ],
      "text/plain": [
       "    Pclass            Age Group  Count  Survived  Survived Ratio  \\\n",
       "0        1           0_Children      3         2        0.666667   \n",
       "1        1        1_Adolescents     18        15        0.833333   \n",
       "2        1             2_Adults    133        89        0.669173   \n",
       "3        1  3_Middle Age Adults     47        27        0.574468   \n",
       "4        1            4_Seniors     14         3        0.214286   \n",
       "5        2           0_Children     17        17        1.000000   \n",
       "6        2        1_Adolescents     18         9        0.500000   \n",
       "7        2             2_Adults    126        54        0.428571   \n",
       "8        2  3_Middle Age Adults     20         6        0.300000   \n",
       "9        2            4_Seniors      3         1        0.333333   \n",
       "10       3           0_Children     42        19        0.452381   \n",
       "11       3        1_Adolescents    108        42        0.388889   \n",
       "12       3             2_Adults    323        57        0.176471   \n",
       "13       3  3_Middle Age Adults     12         0        0.000000   \n",
       "14       3            4_Seniors      5         1        0.200000   \n",
       "\n",
       "    Deceased Ratio  Deceased  \n",
       "0         0.333333         1  \n",
       "1         0.166667         3  \n",
       "2         0.330827        44  \n",
       "3         0.425532        20  \n",
       "4         0.785714        11  \n",
       "5         0.000000         0  \n",
       "6         0.500000         9  \n",
       "7         0.571429        72  \n",
       "8         0.700000        14  \n",
       "9         0.666667         2  \n",
       "10        0.547619        23  \n",
       "11        0.611111        66  \n",
       "12        0.823529       266  \n",
       "13        1.000000        12  \n",
       "14        0.800000         4  "
      ]
     },
     "execution_count": 54,
     "metadata": {},
     "output_type": "execute_result"
    }
   ],
   "source": [
    "# Group data by Pclass and Age Group and sum Count and Survived.\n",
    "age_group_survival_ratio_df = titanic_df.groupby(['Pclass', 'Age Group',], as_index=False) \\\n",
    "                                                ['Count', 'Survived'].sum()\n",
    "# Create Survived Ration column and assign values.\n",
    "age_group_survival_ratio_df['Survived Ratio'] = age_group_survival_ratio_df['Survived'] / \\\n",
    "                                                age_group_survival_ratio_df['Count']\n",
    "# Create Deceased Ratio column and assign values. \n",
    "age_group_survival_ratio_df['Deceased Ratio'] = 1 - age_group_survival_ratio_df['Survived Ratio']\n",
    "# Create Deceased column and assign values.\n",
    "age_group_survival_ratio_df['Deceased'] = age_group_survival_ratio_df['Count'] - \\\n",
    "                                          age_group_survival_ratio_df['Survived']\n",
    "# Show the table. \n",
    "age_group_survival_ratio_df"
   ]
  },
  {
   "cell_type": "code",
   "execution_count": 55,
   "metadata": {
    "collapsed": false
   },
   "outputs": [
    {
     "data": {
      "text/html": [
       "<div>\n",
       "<table border=\"1\" class=\"dataframe\">\n",
       "  <thead>\n",
       "    <tr style=\"text-align: right;\">\n",
       "      <th></th>\n",
       "      <th>Survived</th>\n",
       "      <th>Deceased</th>\n",
       "    </tr>\n",
       "  </thead>\n",
       "  <tbody>\n",
       "    <tr>\n",
       "      <th>Class I - Children</th>\n",
       "      <td>0.666667</td>\n",
       "      <td>0.333333</td>\n",
       "    </tr>\n",
       "    <tr>\n",
       "      <th>Class I - Adolescents</th>\n",
       "      <td>0.833333</td>\n",
       "      <td>0.166667</td>\n",
       "    </tr>\n",
       "    <tr>\n",
       "      <th>Class I - Adults</th>\n",
       "      <td>0.669173</td>\n",
       "      <td>0.330827</td>\n",
       "    </tr>\n",
       "    <tr>\n",
       "      <th>Class I - Middle Age Adults</th>\n",
       "      <td>0.574468</td>\n",
       "      <td>0.425532</td>\n",
       "    </tr>\n",
       "    <tr>\n",
       "      <th>Class I - Seniors</th>\n",
       "      <td>0.214286</td>\n",
       "      <td>0.785714</td>\n",
       "    </tr>\n",
       "    <tr>\n",
       "      <th>Class II - Children</th>\n",
       "      <td>1.000000</td>\n",
       "      <td>0.000000</td>\n",
       "    </tr>\n",
       "    <tr>\n",
       "      <th>Class II - Adolescents</th>\n",
       "      <td>0.500000</td>\n",
       "      <td>0.500000</td>\n",
       "    </tr>\n",
       "    <tr>\n",
       "      <th>Class II - Adults</th>\n",
       "      <td>0.428571</td>\n",
       "      <td>0.571429</td>\n",
       "    </tr>\n",
       "    <tr>\n",
       "      <th>Class II - Middle Age Adults</th>\n",
       "      <td>0.300000</td>\n",
       "      <td>0.700000</td>\n",
       "    </tr>\n",
       "    <tr>\n",
       "      <th>Class II - Seniors</th>\n",
       "      <td>0.333333</td>\n",
       "      <td>0.666667</td>\n",
       "    </tr>\n",
       "    <tr>\n",
       "      <th>Class III - Children</th>\n",
       "      <td>0.452381</td>\n",
       "      <td>0.547619</td>\n",
       "    </tr>\n",
       "    <tr>\n",
       "      <th>Class III - Adolescents</th>\n",
       "      <td>0.388889</td>\n",
       "      <td>0.611111</td>\n",
       "    </tr>\n",
       "    <tr>\n",
       "      <th>Class III - Adults</th>\n",
       "      <td>0.176471</td>\n",
       "      <td>0.823529</td>\n",
       "    </tr>\n",
       "    <tr>\n",
       "      <th>Class III - Middle Age Adults</th>\n",
       "      <td>0.000000</td>\n",
       "      <td>1.000000</td>\n",
       "    </tr>\n",
       "    <tr>\n",
       "      <th>Class II - Seniors</th>\n",
       "      <td>0.200000</td>\n",
       "      <td>0.800000</td>\n",
       "    </tr>\n",
       "  </tbody>\n",
       "</table>\n",
       "</div>"
      ],
      "text/plain": [
       "                               Survived  Deceased\n",
       "Class I - Children             0.666667  0.333333\n",
       "Class I - Adolescents          0.833333  0.166667\n",
       "Class I - Adults               0.669173  0.330827\n",
       "Class I - Middle Age Adults    0.574468  0.425532\n",
       "Class I - Seniors              0.214286  0.785714\n",
       "Class II - Children            1.000000  0.000000\n",
       "Class II - Adolescents         0.500000  0.500000\n",
       "Class II - Adults              0.428571  0.571429\n",
       "Class II - Middle Age Adults   0.300000  0.700000\n",
       "Class II - Seniors             0.333333  0.666667\n",
       "Class III - Children           0.452381  0.547619\n",
       "Class III - Adolescents        0.388889  0.611111\n",
       "Class III - Adults             0.176471  0.823529\n",
       "Class III - Middle Age Adults  0.000000  1.000000\n",
       "Class II - Seniors             0.200000  0.800000"
      ]
     },
     "execution_count": 55,
     "metadata": {},
     "output_type": "execute_result"
    }
   ],
   "source": [
    "# Group by Survived Ratio and Deceased Ratio. \n",
    "plot3_data_df = age_group_survival_ratio_df[['Survived Ratio', 'Deceased Ratio']]\n",
    "# Change column names.\n",
    "plot3_data_df.columns = ['Survived', 'Deceased']\n",
    "# Change index. \n",
    "plot3_data_df.index = ['Class I - Children', 'Class I - Adolescents', \n",
    "                       'Class I - Adults', 'Class I - Middle Age Adults', \n",
    "                       'Class I - Seniors', 'Class II - Children', 'Class II - Adolescents', \n",
    "                       'Class II - Adults', 'Class II - Middle Age Adults', \n",
    "                       'Class II - Seniors', 'Class III - Children', 'Class III - Adolescents', \n",
    "                       'Class III - Adults', 'Class III - Middle Age Adults', \n",
    "                       'Class II - Seniors'\n",
    "                      ]\n",
    "# Show table.\n",
    "plot3_data_df"
   ]
  },
  {
   "cell_type": "code",
   "execution_count": 56,
   "metadata": {
    "collapsed": false
   },
   "outputs": [
    {
     "data": {
      "image/png": "[encoded data removed]",
      "text/plain": [
       "<matplotlib.figure.Figure at 0x7f933b3a0390>"
      ]
     },
     "metadata": {},
     "output_type": "display_data"
    }
   ],
   "source": [
    "# Plot the survival ratio.\n",
    "plotClassAgeRatio = plot3_data_df.plot(\n",
    "                        kind='bar', stacked=True,\n",
    "                        title='Titanic Survival Ratio by Class and Age Group',\n",
    "                        legend=True\n",
    "                        )"
   ]
  },
  {
   "cell_type": "markdown",
   "metadata": {},
   "source": [
    "### Graph of survival numbers by class and age group"
   ]
  },
  {
   "cell_type": "code",
   "execution_count": 58,
   "metadata": {
    "collapsed": false
   },
   "outputs": [
    {
     "data": {
      "text/html": [
       "<div>\n",
       "<table border=\"1\" class=\"dataframe\">\n",
       "  <thead>\n",
       "    <tr style=\"text-align: right;\">\n",
       "      <th></th>\n",
       "      <th>Survived</th>\n",
       "      <th>Deceased</th>\n",
       "    </tr>\n",
       "  </thead>\n",
       "  <tbody>\n",
       "    <tr>\n",
       "      <th>Class I - Children</th>\n",
       "      <td>2</td>\n",
       "      <td>1</td>\n",
       "    </tr>\n",
       "    <tr>\n",
       "      <th>Class I - Adolescents</th>\n",
       "      <td>15</td>\n",
       "      <td>3</td>\n",
       "    </tr>\n",
       "    <tr>\n",
       "      <th>Class I - Adults</th>\n",
       "      <td>89</td>\n",
       "      <td>44</td>\n",
       "    </tr>\n",
       "    <tr>\n",
       "      <th>Class I - Middle Age Adults</th>\n",
       "      <td>27</td>\n",
       "      <td>20</td>\n",
       "    </tr>\n",
       "    <tr>\n",
       "      <th>Class I - Seniors</th>\n",
       "      <td>3</td>\n",
       "      <td>11</td>\n",
       "    </tr>\n",
       "    <tr>\n",
       "      <th>Class II - Children</th>\n",
       "      <td>17</td>\n",
       "      <td>0</td>\n",
       "    </tr>\n",
       "    <tr>\n",
       "      <th>Class II - Adolescents</th>\n",
       "      <td>9</td>\n",
       "      <td>9</td>\n",
       "    </tr>\n",
       "    <tr>\n",
       "      <th>Class II - Adults</th>\n",
       "      <td>54</td>\n",
       "      <td>72</td>\n",
       "    </tr>\n",
       "    <tr>\n",
       "      <th>Class II - Middle Age Adults</th>\n",
       "      <td>6</td>\n",
       "      <td>14</td>\n",
       "    </tr>\n",
       "    <tr>\n",
       "      <th>Class II - Seniors</th>\n",
       "      <td>1</td>\n",
       "      <td>2</td>\n",
       "    </tr>\n",
       "    <tr>\n",
       "      <th>Class III - Children</th>\n",
       "      <td>19</td>\n",
       "      <td>23</td>\n",
       "    </tr>\n",
       "    <tr>\n",
       "      <th>Class III - Adolescents</th>\n",
       "      <td>42</td>\n",
       "      <td>66</td>\n",
       "    </tr>\n",
       "    <tr>\n",
       "      <th>Class III - Adults</th>\n",
       "      <td>57</td>\n",
       "      <td>266</td>\n",
       "    </tr>\n",
       "    <tr>\n",
       "      <th>Class III - Middle Age Adults</th>\n",
       "      <td>0</td>\n",
       "      <td>12</td>\n",
       "    </tr>\n",
       "    <tr>\n",
       "      <th>Class II - Seniors</th>\n",
       "      <td>1</td>\n",
       "      <td>4</td>\n",
       "    </tr>\n",
       "  </tbody>\n",
       "</table>\n",
       "</div>"
      ],
      "text/plain": [
       "                               Survived  Deceased\n",
       "Class I - Children                    2         1\n",
       "Class I - Adolescents                15         3\n",
       "Class I - Adults                     89        44\n",
       "Class I - Middle Age Adults          27        20\n",
       "Class I - Seniors                     3        11\n",
       "Class II - Children                  17         0\n",
       "Class II - Adolescents                9         9\n",
       "Class II - Adults                    54        72\n",
       "Class II - Middle Age Adults          6        14\n",
       "Class II - Seniors                    1         2\n",
       "Class III - Children                 19        23\n",
       "Class III - Adolescents              42        66\n",
       "Class III - Adults                   57       266\n",
       "Class III - Middle Age Adults         0        12\n",
       "Class II - Seniors                    1         4"
      ]
     },
     "execution_count": 58,
     "metadata": {},
     "output_type": "execute_result"
    }
   ],
   "source": [
    "# Group data by Survived and Deceased.\n",
    "plot4_data_df = age_group_survival_ratio_df[['Survived', 'Deceased']]\n",
    "# Create new index.\n",
    "plot4_data_df.index = ['Class I - Children', 'Class I - Adolescents',\n",
    "                       'Class I - Adults', 'Class I - Middle Age Adults',\n",
    "                       'Class I - Seniors', 'Class II - Children', \n",
    "                       'Class II - Adolescents', 'Class II - Adults', \n",
    "                       'Class II - Middle Age Adults', 'Class II - Seniors',\n",
    "                       'Class III - Children', 'Class III - Adolescents', \n",
    "                       'Class III - Adults', 'Class III - Middle Age Adults', \n",
    "                       'Class II - Seniors'\n",
    "                      ]\n",
    "# Show table.\n",
    "plot4_data_df"
   ]
  },
  {
   "cell_type": "code",
   "execution_count": 59,
   "metadata": {
    "collapsed": false
   },
   "outputs": [
    {
     "data": {
      "image/png": "[encoded data removed]",
      "text/plain": [
       "<matplotlib.figure.Figure at 0x7f933aad2c50>"
      ]
     },
     "metadata": {},
     "output_type": "display_data"
    }
   ],
   "source": [
    "# Plot the Survived and Deceased data grouped by Class and Age Group.\n",
    "plotClassAgeAbs = plot4_data_df.plot(kind='bar', stacked=True, title='Titanic Survival Numbers by Class and Age Group',\n",
    "                      legend=True,)"
   ]
  },
  {
   "cell_type": "markdown",
   "metadata": {},
   "source": [
    "# Part III - Data Grouped by Number of Siblings"
   ]
  },
  {
   "cell_type": "markdown",
   "metadata": {},
   "source": [
    "### Graph of Survival Ratio by Number of Siblings"
   ]
  },
  {
   "cell_type": "code",
   "execution_count": 43,
   "metadata": {
    "collapsed": false
   },
   "outputs": [
    {
     "data": {
      "text/html": [
       "<div>\n",
       "<table border=\"1\" class=\"dataframe\">\n",
       "  <thead>\n",
       "    <tr style=\"text-align: right;\">\n",
       "      <th></th>\n",
       "      <th>SibSp</th>\n",
       "      <th>Survived</th>\n",
       "    </tr>\n",
       "  </thead>\n",
       "  <tbody>\n",
       "    <tr>\n",
       "      <th>0</th>\n",
       "      <td>0</td>\n",
       "      <td>0.345395</td>\n",
       "    </tr>\n",
       "    <tr>\n",
       "      <th>1</th>\n",
       "      <td>1</td>\n",
       "      <td>0.535885</td>\n",
       "    </tr>\n",
       "    <tr>\n",
       "      <th>2</th>\n",
       "      <td>2</td>\n",
       "      <td>0.464286</td>\n",
       "    </tr>\n",
       "    <tr>\n",
       "      <th>3</th>\n",
       "      <td>3</td>\n",
       "      <td>0.250000</td>\n",
       "    </tr>\n",
       "    <tr>\n",
       "      <th>4</th>\n",
       "      <td>4</td>\n",
       "      <td>0.166667</td>\n",
       "    </tr>\n",
       "    <tr>\n",
       "      <th>5</th>\n",
       "      <td>5</td>\n",
       "      <td>0.000000</td>\n",
       "    </tr>\n",
       "    <tr>\n",
       "      <th>6</th>\n",
       "      <td>8</td>\n",
       "      <td>0.000000</td>\n",
       "    </tr>\n",
       "  </tbody>\n",
       "</table>\n",
       "</div>"
      ],
      "text/plain": [
       "   SibSp  Survived\n",
       "0      0  0.345395\n",
       "1      1  0.535885\n",
       "2      2  0.464286\n",
       "3      3  0.250000\n",
       "4      4  0.166667\n",
       "5      5  0.000000\n",
       "6      8  0.000000"
      ]
     },
     "execution_count": 43,
     "metadata": {},
     "output_type": "execute_result"
    }
   ],
   "source": [
    "# Group data by SibSp which shows the number of relatives\n",
    "# onboard and take the survived mean.\n",
    "plot4_data = titanic_df.groupby(['SibSp'], as_index=False)['Survived'].mean()\n",
    "# Show table.\n",
    "plot4_data"
   ]
  },
  {
   "cell_type": "code",
   "execution_count": 44,
   "metadata": {
    "collapsed": false
   },
   "outputs": [
    {
     "data": {
      "image/png": "[encoded data removed]",
      "text/plain": [
       "<matplotlib.figure.Figure at 0x7f933af3c790>"
      ]
     },
     "metadata": {},
     "output_type": "display_data"
    }
   ],
   "source": [
    "# Plot the survival ratio by number of siblings. \n",
    "plotSibSurvRatio = plot4_data.plot(kind='scatter', x='SibSp', y='Survived')"
   ]
  },
  {
   "cell_type": "code",
   "execution_count": 45,
   "metadata": {
    "collapsed": false
   },
   "outputs": [
    {
     "data": {
      "text/html": [
       "<div>\n",
       "<table border=\"1\" class=\"dataframe\">\n",
       "  <thead>\n",
       "    <tr style=\"text-align: right;\">\n",
       "      <th></th>\n",
       "      <th>SibSp</th>\n",
       "      <th>Sex</th>\n",
       "      <th>Survived</th>\n",
       "    </tr>\n",
       "  </thead>\n",
       "  <tbody>\n",
       "    <tr>\n",
       "      <th>0</th>\n",
       "      <td>0</td>\n",
       "      <td>female</td>\n",
       "      <td>0.787356</td>\n",
       "    </tr>\n",
       "    <tr>\n",
       "      <th>1</th>\n",
       "      <td>0</td>\n",
       "      <td>male</td>\n",
       "      <td>0.168203</td>\n",
       "    </tr>\n",
       "    <tr>\n",
       "      <th>2</th>\n",
       "      <td>1</td>\n",
       "      <td>female</td>\n",
       "      <td>0.754717</td>\n",
       "    </tr>\n",
       "    <tr>\n",
       "      <th>3</th>\n",
       "      <td>1</td>\n",
       "      <td>male</td>\n",
       "      <td>0.310680</td>\n",
       "    </tr>\n",
       "    <tr>\n",
       "      <th>4</th>\n",
       "      <td>2</td>\n",
       "      <td>female</td>\n",
       "      <td>0.769231</td>\n",
       "    </tr>\n",
       "    <tr>\n",
       "      <th>5</th>\n",
       "      <td>2</td>\n",
       "      <td>male</td>\n",
       "      <td>0.200000</td>\n",
       "    </tr>\n",
       "    <tr>\n",
       "      <th>6</th>\n",
       "      <td>3</td>\n",
       "      <td>female</td>\n",
       "      <td>0.363636</td>\n",
       "    </tr>\n",
       "    <tr>\n",
       "      <th>7</th>\n",
       "      <td>3</td>\n",
       "      <td>male</td>\n",
       "      <td>0.000000</td>\n",
       "    </tr>\n",
       "    <tr>\n",
       "      <th>8</th>\n",
       "      <td>4</td>\n",
       "      <td>female</td>\n",
       "      <td>0.333333</td>\n",
       "    </tr>\n",
       "    <tr>\n",
       "      <th>9</th>\n",
       "      <td>4</td>\n",
       "      <td>male</td>\n",
       "      <td>0.083333</td>\n",
       "    </tr>\n",
       "    <tr>\n",
       "      <th>10</th>\n",
       "      <td>5</td>\n",
       "      <td>female</td>\n",
       "      <td>0.000000</td>\n",
       "    </tr>\n",
       "    <tr>\n",
       "      <th>11</th>\n",
       "      <td>5</td>\n",
       "      <td>male</td>\n",
       "      <td>0.000000</td>\n",
       "    </tr>\n",
       "    <tr>\n",
       "      <th>12</th>\n",
       "      <td>8</td>\n",
       "      <td>female</td>\n",
       "      <td>0.000000</td>\n",
       "    </tr>\n",
       "    <tr>\n",
       "      <th>13</th>\n",
       "      <td>8</td>\n",
       "      <td>male</td>\n",
       "      <td>0.000000</td>\n",
       "    </tr>\n",
       "  </tbody>\n",
       "</table>\n",
       "</div>"
      ],
      "text/plain": [
       "    SibSp     Sex  Survived\n",
       "0       0  female  0.787356\n",
       "1       0    male  0.168203\n",
       "2       1  female  0.754717\n",
       "3       1    male  0.310680\n",
       "4       2  female  0.769231\n",
       "5       2    male  0.200000\n",
       "6       3  female  0.363636\n",
       "7       3    male  0.000000\n",
       "8       4  female  0.333333\n",
       "9       4    male  0.083333\n",
       "10      5  female  0.000000\n",
       "11      5    male  0.000000\n",
       "12      8  female  0.000000\n",
       "13      8    male  0.000000"
      ]
     },
     "execution_count": 45,
     "metadata": {},
     "output_type": "execute_result"
    }
   ],
   "source": [
    "# Group data by SibSp and Sex and take\n",
    "# Survived mean.\n",
    "plot5_data = titanic_df.groupby(['SibSp', 'Sex'], as_index=False)['Survived'].mean()\n",
    "# Show table.\n",
    "plot5_data"
   ]
  },
  {
   "cell_type": "markdown",
   "metadata": {},
   "source": [
    "# Conclusions"
   ]
  },
  {
   "cell_type": "markdown",
   "metadata": {},
   "source": [
    "After analyzing the data it appears that the change of survival depends on the following:\n",
    "1. The gender had a significant impact on the chance of survival. Women were more likely to survive than men indifferent of cabin class or age. \n",
    "2. The cabin class had a certain impact on survival change but not as clear as gender. The higher the cabin class the higher the chance of survival. \n",
    "3. The age also has a significant impact on survival. The smaller the age the bigger the survival chance got across all cabin classes. \n",
    "4. The number of siblings aboard the vessel seems to have a negative impact on the survival chance. The bigger the number of siblings the smaller the chance of survival got. "
   ]
  },
  {
   "cell_type": "code",
   "execution_count": null,
   "metadata": {
    "collapsed": true
   },
   "outputs": [],
   "source": [
    "        "
   ]
  }
 ],
 "metadata": {
  "anaconda-cloud": {},
  "kernelspec": {
   "display_name": "Python [default]",
   "language": "python",
   "name": "python2"
  },
  "language_info": {
   "codemirror_mode": {
    "name": "ipython",
    "version": 2
   },
   "file_extension": ".py",
   "mimetype": "text/x-python",
   "name": "python",
   "nbconvert_exporter": "python",
   "pygments_lexer": "ipython2",
   "version": "2.7.12"
  }
 },
 "nbformat": 4,
 "nbformat_minor": 1
}
