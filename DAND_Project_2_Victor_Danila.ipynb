{
 "cells": [
  {
   "cell_type": "markdown",
   "metadata": {},
   "source": [
    "\n",
    "\n",
    "\n",
    "\n",
    "\n",
    "\n",
    "\n",
    "\n",
    "\n",
    "\n",
    "\n",
    "\n",
    "\n",
    "\n",
    "\n",
    "\n",
    "\n",
    "\n",
    "\n",
    "\n",
    "# DAND Project 2: Investigate a Dataset\n",
    "## Dat Set: Titanic Passengers List\n",
    "\n",
    "### Start Date: 29 November 2016\n",
    "### Submission Date: 30 November 2016\n",
    "### Author: Victor Danila"
   ]
  },
  {
   "cell_type": "markdown",
   "metadata": {},
   "source": [
    "## Questions investigated:\n",
    "### - What factors made people more likely to survive?"
   ]
  },
  {
   "cell_type": "code",
   "execution_count": 1,
   "metadata": {
    "collapsed": true
   },
   "outputs": [],
   "source": [
    "import pandas as pd\n",
    "import numpy as np\n",
    "import matplotlib as plt\n",
    "import seaborn as sns\n",
    "import io\n",
    "%matplotlib inline"
   ]
  },
  {
   "cell_type": "markdown",
   "metadata": {},
   "source": [
    "### Original Data Frame"
   ]
  },
  {
   "cell_type": "code",
   "execution_count": 8,
   "metadata": {
    "collapsed": false
   },
   "outputs": [
    {
     "data": {
      "text/html": [
       "<div>\n",
       "<table border=\"1\" class=\"dataframe\">\n",
       "  <thead>\n",
       "    <tr style=\"text-align: right;\">\n",
       "      <th></th>\n",
       "      <th>PassengerId</th>\n",
       "      <th>Survived</th>\n",
       "      <th>Pclass</th>\n",
       "      <th>Name</th>\n",
       "      <th>Sex</th>\n",
       "      <th>Age</th>\n",
       "      <th>SibSp</th>\n",
       "      <th>Parch</th>\n",
       "      <th>Ticket</th>\n",
       "      <th>Fare</th>\n",
       "      <th>Cabin</th>\n",
       "      <th>Embarked</th>\n",
       "    </tr>\n",
       "  </thead>\n",
       "  <tbody>\n",
       "    <tr>\n",
       "      <th>0</th>\n",
       "      <td>1</td>\n",
       "      <td>0</td>\n",
       "      <td>3</td>\n",
       "      <td>Braund, Mr. Owen Harris</td>\n",
       "      <td>male</td>\n",
       "      <td>22.0</td>\n",
       "      <td>1</td>\n",
       "      <td>0</td>\n",
       "      <td>A/5 21171</td>\n",
       "      <td>7.2500</td>\n",
       "      <td>NaN</td>\n",
       "      <td>S</td>\n",
       "    </tr>\n",
       "    <tr>\n",
       "      <th>1</th>\n",
       "      <td>2</td>\n",
       "      <td>1</td>\n",
       "      <td>1</td>\n",
       "      <td>Cumings, Mrs. John Bradley (Florence Briggs Th...</td>\n",
       "      <td>female</td>\n",
       "      <td>38.0</td>\n",
       "      <td>1</td>\n",
       "      <td>0</td>\n",
       "      <td>PC 17599</td>\n",
       "      <td>71.2833</td>\n",
       "      <td>C85</td>\n",
       "      <td>C</td>\n",
       "    </tr>\n",
       "    <tr>\n",
       "      <th>2</th>\n",
       "      <td>3</td>\n",
       "      <td>1</td>\n",
       "      <td>3</td>\n",
       "      <td>Heikkinen, Miss. Laina</td>\n",
       "      <td>female</td>\n",
       "      <td>26.0</td>\n",
       "      <td>0</td>\n",
       "      <td>0</td>\n",
       "      <td>STON/O2. 3101282</td>\n",
       "      <td>7.9250</td>\n",
       "      <td>NaN</td>\n",
       "      <td>S</td>\n",
       "    </tr>\n",
       "    <tr>\n",
       "      <th>3</th>\n",
       "      <td>4</td>\n",
       "      <td>1</td>\n",
       "      <td>1</td>\n",
       "      <td>Futrelle, Mrs. Jacques Heath (Lily May Peel)</td>\n",
       "      <td>female</td>\n",
       "      <td>35.0</td>\n",
       "      <td>1</td>\n",
       "      <td>0</td>\n",
       "      <td>113803</td>\n",
       "      <td>53.1000</td>\n",
       "      <td>C123</td>\n",
       "      <td>S</td>\n",
       "    </tr>\n",
       "    <tr>\n",
       "      <th>4</th>\n",
       "      <td>5</td>\n",
       "      <td>0</td>\n",
       "      <td>3</td>\n",
       "      <td>Allen, Mr. William Henry</td>\n",
       "      <td>male</td>\n",
       "      <td>35.0</td>\n",
       "      <td>0</td>\n",
       "      <td>0</td>\n",
       "      <td>373450</td>\n",
       "      <td>8.0500</td>\n",
       "      <td>NaN</td>\n",
       "      <td>S</td>\n",
       "    </tr>\n",
       "  </tbody>\n",
       "</table>\n",
       "</div>"
      ],
      "text/plain": [
       "   PassengerId  Survived  Pclass  \\\n",
       "0            1         0       3   \n",
       "1            2         1       1   \n",
       "2            3         1       3   \n",
       "3            4         1       1   \n",
       "4            5         0       3   \n",
       "\n",
       "                                                Name     Sex   Age  SibSp  \\\n",
       "0                            Braund, Mr. Owen Harris    male  22.0      1   \n",
       "1  Cumings, Mrs. John Bradley (Florence Briggs Th...  female  38.0      1   \n",
       "2                             Heikkinen, Miss. Laina  female  26.0      0   \n",
       "3       Futrelle, Mrs. Jacques Heath (Lily May Peel)  female  35.0      1   \n",
       "4                           Allen, Mr. William Henry    male  35.0      0   \n",
       "\n",
       "   Parch            Ticket     Fare Cabin Embarked  \n",
       "0      0         A/5 21171   7.2500   NaN        S  \n",
       "1      0          PC 17599  71.2833   C85        C  \n",
       "2      0  STON/O2. 3101282   7.9250   NaN        S  \n",
       "3      0            113803  53.1000  C123        S  \n",
       "4      0            373450   8.0500   NaN        S  "
      ]
     },
     "execution_count": 8,
     "metadata": {},
     "output_type": "execute_result"
    }
   ],
   "source": [
    "filename = 'titanic-data.csv'\n",
    "titanic_df = pd.read_csv(filename)\n",
    "titanic_df.head(n=5)"
   ]
  },
  {
   "cell_type": "markdown",
   "metadata": {},
   "source": [
    "### Checking for Missing Values and Filling in Missing Instances  (Data Wrangling)"
   ]
  },
  {
   "cell_type": "code",
   "execution_count": 11,
   "metadata": {
    "collapsed": false
   },
   "outputs": [
    {
     "name": "stdout",
     "output_type": "stream",
     "text": [
      "Columns with missing values:\n",
      "\n",
      "PassengerId    False\n",
      "Survived       False\n",
      "Pclass         False\n",
      "Name           False\n",
      "Sex            False\n",
      "Age             True\n",
      "SibSp          False\n",
      "Parch          False\n",
      "Ticket         False\n",
      "Fare           False\n",
      "Cabin           True\n",
      "Embarked        True\n",
      "Age_Rounded     True\n",
      "dtype: bool\n",
      "\n",
      "Number of missing instances in Age columns: 177\n",
      "Percent of missing instances in Age Column: 19.8653198653\n",
      "\n",
      "Age mode grouped by Class and Gender:\n",
      "\n",
      "   Pclass     Sex  Age_Rounded\n",
      "0       1  female         35.0\n",
      "1       1    male         36.0\n",
      "2       2  female         24.0\n",
      "3       2    male         34.0\n",
      "4       3  female         18.0\n",
      "5       3    male         20.0\n"
     ]
    }
   ],
   "source": [
    "# Show columns with missing values\n",
    "print 'Columns with missing values:'\n",
    "print\n",
    "print titanic_df.isnull().any()\n",
    "print\n",
    "# Count missing instances in Age column:\n",
    "print 'Number of missing instances in Age columns:', sum(titanic_df['Age'].isnull())\n",
    "print 'Percent of missing instances in Age Column:', sum(1.0 * titanic_df['Age'].isnull())/len(titanic_df.index)*100\n",
    "print \n",
    "# Add an Age column with rounded values:\n",
    "titanic_df['Age_Rounded'] = titanic_df['Age'].round()\n",
    "# Set login for filling in missing values:\n",
    "print 'Age mode grouped by Class and Gender:'\n",
    "print\n",
    "ref_table = titanic_df.groupby(['Pclass', 'Sex'], as_index=False)['Age_Rounded'].agg(lambda x:x.value_counts().index[0])\n",
    "print ref_table\n",
    "\n"
   ]
  },
  {
   "cell_type": "markdown",
   "metadata": {},
   "source": [
    "I will fill in the missing age instances given that I will be looking how age affects survival chances. "
   ]
  },
  {
   "cell_type": "code",
   "execution_count": 21,
   "metadata": {
    "collapsed": false
   },
   "outputs": [
    {
     "ename": "KeyError",
     "evalue": "'cannot use a single bool to index into setitem'",
     "output_type": "error",
     "traceback": [
      "\u001b[0;31m---------------------------------------------------------------------------\u001b[0m",
      "\u001b[0;31mKeyError\u001b[0m                                  Traceback (most recent call last)",
      "\u001b[0;32m<ipython-input-21-3cb1a062873c>\u001b[0m in \u001b[0;36m<module>\u001b[0;34m()\u001b[0m\n\u001b[0;32m----> 1\u001b[0;31m \u001b[0mtitanic_df\u001b[0m\u001b[0;34m.\u001b[0m\u001b[0mloc\u001b[0m\u001b[0;34m[\u001b[0m\u001b[0;34m(\u001b[0m\u001b[0;34m'Pclass'\u001b[0m \u001b[0;34m==\u001b[0m\u001b[0;36m1\u001b[0m\u001b[0;34m)\u001b[0m \u001b[0;34m&\u001b[0m \u001b[0;34m(\u001b[0m\u001b[0;34m'Sex'\u001b[0m\u001b[0;34m==\u001b[0m\u001b[0;34m'female'\u001b[0m\u001b[0;34m)\u001b[0m \u001b[0;34m&\u001b[0m \u001b[0;34m(\u001b[0m\u001b[0;34m'Age'\u001b[0m\u001b[0;34m==\u001b[0m\u001b[0mnp\u001b[0m\u001b[0;34m.\u001b[0m\u001b[0mnan\u001b[0m\u001b[0;34m)\u001b[0m\u001b[0;34m,\u001b[0m \u001b[0;34m'Age'\u001b[0m \u001b[0;34m]\u001b[0m \u001b[0;34m=\u001b[0m \u001b[0;36m35\u001b[0m\u001b[0;34m\u001b[0m\u001b[0m\n\u001b[0m\u001b[1;32m      2\u001b[0m \u001b[0;31m# Iterating over the Age colum and assigning mode values grouped by class and sex (ref_table) to\u001b[0m\u001b[0;34m\u001b[0m\u001b[0;34m\u001b[0m\u001b[0m\n\u001b[1;32m      3\u001b[0m \u001b[0;31m# NaN instances\u001b[0m\u001b[0;34m\u001b[0m\u001b[0;34m\u001b[0m\u001b[0m\n\u001b[1;32m      4\u001b[0m \u001b[0;31m# new_age_col = titanic_df['Age']\u001b[0m\u001b[0;34m\u001b[0m\u001b[0;34m\u001b[0m\u001b[0m\n\u001b[1;32m      5\u001b[0m \u001b[0;31m# for index, value in new_age_col.iteritems() :\u001b[0m\u001b[0;34m\u001b[0m\u001b[0;34m\u001b[0m\u001b[0m\n",
      "\u001b[0;32m/home/victor/anaconda2/lib/python2.7/site-packages/pandas/core/indexing.pyc\u001b[0m in \u001b[0;36m__setitem__\u001b[0;34m(self, key, value)\u001b[0m\n\u001b[1;32m    130\u001b[0m             \u001b[0mkey\u001b[0m \u001b[0;34m=\u001b[0m \u001b[0mcom\u001b[0m\u001b[0;34m.\u001b[0m\u001b[0m_apply_if_callable\u001b[0m\u001b[0;34m(\u001b[0m\u001b[0mkey\u001b[0m\u001b[0;34m,\u001b[0m \u001b[0mself\u001b[0m\u001b[0;34m.\u001b[0m\u001b[0mobj\u001b[0m\u001b[0;34m)\u001b[0m\u001b[0;34m\u001b[0m\u001b[0m\n\u001b[1;32m    131\u001b[0m         \u001b[0mindexer\u001b[0m \u001b[0;34m=\u001b[0m \u001b[0mself\u001b[0m\u001b[0;34m.\u001b[0m\u001b[0m_get_setitem_indexer\u001b[0m\u001b[0;34m(\u001b[0m\u001b[0mkey\u001b[0m\u001b[0;34m)\u001b[0m\u001b[0;34m\u001b[0m\u001b[0m\n\u001b[0;32m--> 132\u001b[0;31m         \u001b[0mself\u001b[0m\u001b[0;34m.\u001b[0m\u001b[0m_setitem_with_indexer\u001b[0m\u001b[0;34m(\u001b[0m\u001b[0mindexer\u001b[0m\u001b[0;34m,\u001b[0m \u001b[0mvalue\u001b[0m\u001b[0;34m)\u001b[0m\u001b[0;34m\u001b[0m\u001b[0m\n\u001b[0m\u001b[1;32m    133\u001b[0m \u001b[0;34m\u001b[0m\u001b[0m\n\u001b[1;32m    134\u001b[0m     \u001b[0;32mdef\u001b[0m \u001b[0m_has_valid_type\u001b[0m\u001b[0;34m(\u001b[0m\u001b[0mself\u001b[0m\u001b[0;34m,\u001b[0m \u001b[0mk\u001b[0m\u001b[0;34m,\u001b[0m \u001b[0maxis\u001b[0m\u001b[0;34m)\u001b[0m\u001b[0;34m:\u001b[0m\u001b[0;34m\u001b[0m\u001b[0m\n",
      "\u001b[0;32m/home/victor/anaconda2/lib/python2.7/site-packages/pandas/core/indexing.pyc\u001b[0m in \u001b[0;36m_setitem_with_indexer\u001b[0;34m(self, indexer, value)\u001b[0m\n\u001b[1;32m    261\u001b[0m                     \u001b[0;31m# reindex the axis to the new value\u001b[0m\u001b[0;34m\u001b[0m\u001b[0;34m\u001b[0m\u001b[0m\n\u001b[1;32m    262\u001b[0m                     \u001b[0;31m# and set inplace\u001b[0m\u001b[0;34m\u001b[0m\u001b[0;34m\u001b[0m\u001b[0m\n\u001b[0;32m--> 263\u001b[0;31m                     \u001b[0mkey\u001b[0m\u001b[0;34m,\u001b[0m \u001b[0m_\u001b[0m \u001b[0;34m=\u001b[0m \u001b[0mconvert_missing_indexer\u001b[0m\u001b[0;34m(\u001b[0m\u001b[0midx\u001b[0m\u001b[0;34m)\u001b[0m\u001b[0;34m\u001b[0m\u001b[0m\n\u001b[0m\u001b[1;32m    264\u001b[0m \u001b[0;34m\u001b[0m\u001b[0m\n\u001b[1;32m    265\u001b[0m                     \u001b[0;31m# if this is the items axes, then take the main missing\u001b[0m\u001b[0;34m\u001b[0m\u001b[0;34m\u001b[0m\u001b[0m\n",
      "\u001b[0;32m/home/victor/anaconda2/lib/python2.7/site-packages/pandas/core/indexing.pyc\u001b[0m in \u001b[0;36mconvert_missing_indexer\u001b[0;34m(indexer)\u001b[0m\n\u001b[1;32m   1822\u001b[0m \u001b[0;34m\u001b[0m\u001b[0m\n\u001b[1;32m   1823\u001b[0m         \u001b[0;32mif\u001b[0m \u001b[0misinstance\u001b[0m\u001b[0;34m(\u001b[0m\u001b[0mindexer\u001b[0m\u001b[0;34m,\u001b[0m \u001b[0mbool\u001b[0m\u001b[0;34m)\u001b[0m\u001b[0;34m:\u001b[0m\u001b[0;34m\u001b[0m\u001b[0m\n\u001b[0;32m-> 1824\u001b[0;31m             \u001b[0;32mraise\u001b[0m \u001b[0mKeyError\u001b[0m\u001b[0;34m(\u001b[0m\u001b[0;34m\"cannot use a single bool to index into setitem\"\u001b[0m\u001b[0;34m)\u001b[0m\u001b[0;34m\u001b[0m\u001b[0m\n\u001b[0m\u001b[1;32m   1825\u001b[0m         \u001b[0;32mreturn\u001b[0m \u001b[0mindexer\u001b[0m\u001b[0;34m,\u001b[0m \u001b[0mTrue\u001b[0m\u001b[0;34m\u001b[0m\u001b[0m\n\u001b[1;32m   1826\u001b[0m \u001b[0;34m\u001b[0m\u001b[0m\n",
      "\u001b[0;31mKeyError\u001b[0m: 'cannot use a single bool to index into setitem'"
     ]
    }
   ],
   "source": [
    "titanic_df.loc[('Pclass' ==1) & ('Sex'=='female') & ('Age'==np.nan), 'Age' ] = 35\n",
    "# Iterating over the Age colum and assigning mode values grouped by class and sex (ref_table) to \n",
    "# NaN instances\n",
    "# new_age_col = titanic_df['Age']\n",
    "# for index, value in new_age_col.iteritems() :\n",
    "#     if np.isnan(value):\n",
    "#         if titanic_df['Pclass'][index] == 1 and titanic_df['Sex'][index] == 'female':\n",
    "#             new_age_col[index] = 35.0\n",
    "#         elif titanic_df['Pclass'][index] == 1 and titanic_df['Sex'][index] == 'male':\n",
    "#             new_age_col[index] = 36.0\n",
    "#         elif titanic_df['Pclass'][index] == 2 and titanic_df['Sex'][index] == 'female':\n",
    "#             new_age_col[index] = 24.0\n",
    "#         elif titanic_df['Pclass'][index] == 2 and titanic_df['Sex'][index] == 'male':\n",
    "#             new_age_col[index] = 34.0\n",
    "#         elif titanic_df['Pclass'][index] == 3 and titanic_df['Sex'][index] == 'female':\n",
    "#             new_age_col[index] = 18.0\n",
    "#         elif titanic_df['Pclass'][index] == 3 and titanic_df['Sex'][index] == 'male':\n",
    "#             new_age_col[index] = 20.0\n",
    "            \n",
    "# # Updating the Age column\n",
    "\n",
    "# titanic_df['Age'] = new_age_col"
   ]
  },
  {
   "cell_type": "code",
   "execution_count": 20,
   "metadata": {
    "collapsed": false
   },
   "outputs": [
    {
     "data": {
      "text/plain": [
       "numpy.float64"
      ]
     },
     "execution_count": 20,
     "metadata": {},
     "output_type": "execute_result"
    }
   ],
   "source": [
    "type(titanic_df['Age'][5])"
   ]
  },
  {
   "cell_type": "code",
   "execution_count": null,
   "metadata": {
    "collapsed": false,
    "scrolled": true
   },
   "outputs": [],
   "source": []
  },
  {
   "cell_type": "markdown",
   "metadata": {},
   "source": [
    "### Latest Data Frame (After Data Wrangling)"
   ]
  },
  {
   "cell_type": "code",
   "execution_count": null,
   "metadata": {
    "collapsed": false
   },
   "outputs": [],
   "source": [
    "#Function that assigns passenger to an age group:\n",
    "def assign_age_group(age):\n",
    "    if age is not 'NaN':\n",
    "        if age <= 9:\n",
    "            return '0_Children'\n",
    "        elif 10 <= age <= 19:\n",
    "            return '1_Adolescents'\n",
    "        elif 20 <= age <= 45:\n",
    "            return '2_Adults'\n",
    "        elif 46 <= age <=60:\n",
    "            return '3_Middle Age Adults'\n",
    "        elif 60 < age:\n",
    "            return '4_Seniors'\n",
    "        \n",
    "#Creates new column named 'Age Group':\n",
    "titanic_df['Age Group'] = titanic_df['Age'].apply(assign_age_group)\n",
    "\n",
    "#Function that assigns 1 to each passanger, to be used in counting. \n",
    "def assign_num_value(value):\n",
    "    return 1\n",
    "\n",
    "#Creates new column and insert 1 on each row:\n",
    "titanic_df['Count'] = titanic_df['PassengerId'].apply(assign_num_value)\n",
    "titanic_df.head(n=5)"
   ]
  },
  {
   "cell_type": "markdown",
   "metadata": {},
   "source": [
    "# Part I - Data Grouped by Class and Gender"
   ]
  },
  {
   "cell_type": "markdown",
   "metadata": {},
   "source": [
    "### Graph  of Survival Ratio by Class and Gender"
   ]
  },
  {
   "cell_type": "code",
   "execution_count": null,
   "metadata": {
    "collapsed": false
   },
   "outputs": [],
   "source": [
    "survival_ratio_data = titanic_df.groupby(['Pclass', 'Sex',], as_index=False )['Survived'].mean()\n",
    "deceased = survival_ratio_data['Survived'] * (-1) + 1.00\n",
    "survival_ratio_data['Deceased'] = deceased\n",
    "survival_ratio_data"
   ]
  },
  {
   "cell_type": "code",
   "execution_count": null,
   "metadata": {
    "collapsed": false
   },
   "outputs": [],
   "source": [
    "plot1_data = survival_ratio_data[['Survived', 'Deceased']]\n",
    "\n",
    "plot1_data.index = ['Class I - Women', 'Class I - Men', 'Class II - Women', 'Class II - Men', 'Class III - Women',\n",
    "                    'Class III - Men']\n",
    "plot1_data"
   ]
  },
  {
   "cell_type": "code",
   "execution_count": null,
   "metadata": {
    "collapsed": false
   },
   "outputs": [],
   "source": [
    "plotClassGenderRatio = plot1_data.plot(kind='bar', stacked=True, title='Titanic Survival Ratio by Class and Gender',\n",
    "                       legend=True,)"
   ]
  },
  {
   "cell_type": "markdown",
   "metadata": {},
   "source": [
    "### Graph of survival numbers by class and gender"
   ]
  },
  {
   "cell_type": "code",
   "execution_count": null,
   "metadata": {
    "collapsed": false
   },
   "outputs": [],
   "source": [
    "plot1_1_data_df = titanic_df.groupby(['Pclass', 'Sex',], as_index=False )['Count', 'Survived'].sum()\n",
    "plot1_1_data_df['Deceased'] = plot1_1_data_df['Count'] - plot1_1_data_df['Survived']\n",
    "plot1_1_data_df.drop('Pclass', axis=1, inplace=True)\n",
    "plot1_1_data_df.drop('Sex', axis=1, inplace=True)\n",
    "plot1_1_data_df.drop('Count', axis=1, inplace=True)\n",
    "plot1_1_data_df.index = ['Class I - Women', 'Class I - Men', 'Class II - Women', 'Class II - Men', 'Class III - Women',\n",
    "                    'Class III - Men']\n",
    "plot1_1_data_df"
   ]
  },
  {
   "cell_type": "code",
   "execution_count": null,
   "metadata": {
    "collapsed": false
   },
   "outputs": [],
   "source": [
    "plotClassGenderAbs = plot1_1_data_df.plot(kind='bar', stacked=True, title='Titanic Survival Numbers by Class and Gender',\n",
    "                       legend=True,)"
   ]
  },
  {
   "cell_type": "markdown",
   "metadata": {},
   "source": [
    "### Graph  of age frequency of passengers"
   ]
  },
  {
   "cell_type": "code",
   "execution_count": null,
   "metadata": {
    "collapsed": false
   },
   "outputs": [],
   "source": [
    "age_hist_data = titanic_df['Age']\n",
    "plotAgeHist = age_hist_data.plot(kind='hist', title='Titanic Passengers Age Histogram')"
   ]
  },
  {
   "cell_type": "markdown",
   "metadata": {},
   "source": [
    "# Part II - Data Grouped by Class and Age Group"
   ]
  },
  {
   "cell_type": "markdown",
   "metadata": {},
   "source": [
    "### Graph of survival ratio by class and age group"
   ]
  },
  {
   "cell_type": "code",
   "execution_count": null,
   "metadata": {
    "collapsed": false
   },
   "outputs": [],
   "source": [
    "age_group_survival_ratio_df = titanic_df.groupby(['Pclass', 'Age Group',], as_index=False)['Count', 'Survived'].sum()\n",
    "age_group_survival_ratio_df['Survived Ratio'] = age_group_survival_ratio_df['Survived'] / age_group_survival_ratio_df['Count']\n",
    "age_group_survival_ratio_df['Deceased Ratio'] = 1 - age_group_survival_ratio_df['Survived Ratio']\n",
    "age_group_survival_ratio_df['Deceased'] = age_group_survival_ratio_df['Count'] - age_group_survival_ratio_df['Survived']\n",
    "age_group_survival_ratio_df"
   ]
  },
  {
   "cell_type": "code",
   "execution_count": null,
   "metadata": {
    "collapsed": false
   },
   "outputs": [],
   "source": [
    "plot3_data_df = age_group_survival_ratio_df[['Survived Ratio', 'Deceased Ratio']]\n",
    "plot3_data_df.columns = ['Survived', 'Deceased']\n",
    "plot3_data_df.index = ['Class I - Children', 'Class I - Adolescents', 'Class I - Adults', 'Class I - Middle Age Adults', 'Class I - Seniors',\n",
    "                       'Class II - Children', 'Class II - Adolescents', 'Class II - Adults', 'Class II - Middle Age Adults', 'Class II - Seniors',\n",
    "                       'Class III - Children', 'Class III - Adolescents', 'Class III - Adults', 'Class III - Middle Age Adults', 'Class II - Seniors'\n",
    "                      ]\n",
    "plot3_data_df"
   ]
  },
  {
   "cell_type": "code",
   "execution_count": null,
   "metadata": {
    "collapsed": false
   },
   "outputs": [],
   "source": [
    "plotClassAgeRatio = plot3_data_df.plot(kind='bar', stacked=True, title='Titanic Survival Ratio by Class and Age Group',\n",
    "                       legend=True,)"
   ]
  },
  {
   "cell_type": "markdown",
   "metadata": {},
   "source": [
    "### Graph of survival numbers by class and age group"
   ]
  },
  {
   "cell_type": "code",
   "execution_count": null,
   "metadata": {
    "collapsed": false
   },
   "outputs": [],
   "source": [
    "plot4_data_df = age_group_survival_ratio_df[['Survived', 'Deceased']]\n",
    "plot4_data_df.index = ['Class I - Children', 'Class I - Adolescents', 'Class I - Adults', 'Class I - Middle Age Adults', 'Class I - Seniors',\n",
    "                       'Class II - Children', 'Class II - Adolescents', 'Class II - Adults', 'Class II - Middle Age Adults', 'Class II - Seniors',\n",
    "                       'Class III - Children', 'Class III - Adolescents', 'Class III - Adults', 'Class III - Middle Age Adults', 'Class II - Seniors'\n",
    "                      ]\n",
    "plot4_data_df"
   ]
  },
  {
   "cell_type": "code",
   "execution_count": null,
   "metadata": {
    "collapsed": false
   },
   "outputs": [],
   "source": [
    "plotClassAgeAbs = plot4_data_df.plot(kind='bar', stacked=True, title='Titanic Survival Numbers by Class and Age Group',\n",
    "                      legend=True,)"
   ]
  },
  {
   "cell_type": "markdown",
   "metadata": {},
   "source": [
    "# Part III - Data Grouped by Number of Siblings"
   ]
  },
  {
   "cell_type": "markdown",
   "metadata": {},
   "source": [
    "### Graph of Survival Ratio by Number of Siblings"
   ]
  },
  {
   "cell_type": "code",
   "execution_count": null,
   "metadata": {
    "collapsed": false
   },
   "outputs": [],
   "source": [
    "plot4_data = titanic_df.groupby(['SibSp'], as_index=False)['Survived'].mean()\n",
    "plot4_data"
   ]
  },
  {
   "cell_type": "code",
   "execution_count": null,
   "metadata": {
    "collapsed": false
   },
   "outputs": [],
   "source": [
    "plotSibSurvRatio = plot4_data.plot(kind='scatter', x='SibSp', y='Survived')"
   ]
  },
  {
   "cell_type": "code",
   "execution_count": null,
   "metadata": {
    "collapsed": false
   },
   "outputs": [],
   "source": [
    "plot5_data = titanic_df.groupby(['SibSp', 'Sex'], as_index=False)['Survived'].mean()\n",
    "plot5_data"
   ]
  },
  {
   "cell_type": "markdown",
   "metadata": {},
   "source": [
    "# Conclusions"
   ]
  },
  {
   "cell_type": "markdown",
   "metadata": {},
   "source": [
    "After analyzing the data it appears that the change of survival depends on the following:\n",
    "1. The gender had a significant impact on the chance of survival. Women were more likely to survive than men indifferent of cabin class or age. \n",
    "2. The cabin class had a certain impact on survival change but not as clear as gender. The higher the cabin class the higher the chance of survival. \n",
    "3. The age also has a significant impact on survival. The smaller the age the bigger the survival chance got across all cabin classes. \n",
    "4. The number of siblings aboard the vessel seems to have a negative impact on the survival chance. The bigger the number of siblings the smaller the chance of survival got. "
   ]
  },
  {
   "cell_type": "code",
   "execution_count": null,
   "metadata": {
    "collapsed": true
   },
   "outputs": [],
   "source": []
  }
 ],
 "metadata": {
  "anaconda-cloud": {},
  "kernelspec": {
   "display_name": "Python [default]",
   "language": "python",
   "name": "python2"
  },
  "language_info": {
   "codemirror_mode": {
    "name": "ipython",
    "version": 2
   },
   "file_extension": ".py",
   "mimetype": "text/x-python",
   "name": "python",
   "nbconvert_exporter": "python",
   "pygments_lexer": "ipython2",
   "version": "2.7.12"
  }
 },
 "nbformat": 4,
 "nbformat_minor": 1
}
